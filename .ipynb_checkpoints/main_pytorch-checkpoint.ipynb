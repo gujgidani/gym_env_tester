{
 "cells": [
  {
   "metadata": {
    "ExecuteTime": {
     "end_time": "2024-07-10T09:16:39.379585Z",
     "start_time": "2024-07-10T09:16:36.182429Z"
    }
   },
   "cell_type": "code",
   "source": [
    "%%bash\n",
    "pip3 install gymnasium[classic_control] matplotlib"
   ],
   "id": "914ba3803e666051",
   "outputs": [
    {
     "name": "stdout",
     "output_type": "stream",
     "text": [
      "Requirement already satisfied: matplotlib in /opt/anaconda3/envs/sumo_RL_pytorch/lib/python3.11/site-packages (3.9.1)\n",
      "Requirement already satisfied: gymnasium[classic_control] in /opt/anaconda3/envs/sumo_RL_pytorch/lib/python3.11/site-packages (0.29.1)\n",
      "Requirement already satisfied: numpy>=1.21.0 in /opt/anaconda3/envs/sumo_RL_pytorch/lib/python3.11/site-packages (from gymnasium[classic_control]) (1.26.5)\n",
      "Requirement already satisfied: cloudpickle>=1.2.0 in /opt/anaconda3/envs/sumo_RL_pytorch/lib/python3.11/site-packages (from gymnasium[classic_control]) (3.0.0)\n",
      "Requirement already satisfied: typing-extensions>=4.3.0 in /opt/anaconda3/envs/sumo_RL_pytorch/lib/python3.11/site-packages (from gymnasium[classic_control]) (4.11.0)\n",
      "Requirement already satisfied: farama-notifications>=0.0.1 in /opt/anaconda3/envs/sumo_RL_pytorch/lib/python3.11/site-packages (from gymnasium[classic_control]) (0.0.4)\n",
      "Requirement already satisfied: pygame>=2.1.3 in /opt/anaconda3/envs/sumo_RL_pytorch/lib/python3.11/site-packages (from gymnasium[classic_control]) (2.6.0)\n",
      "Requirement already satisfied: contourpy>=1.0.1 in /opt/anaconda3/envs/sumo_RL_pytorch/lib/python3.11/site-packages (from matplotlib) (1.2.1)\n",
      "Requirement already satisfied: cycler>=0.10 in /opt/anaconda3/envs/sumo_RL_pytorch/lib/python3.11/site-packages (from matplotlib) (0.12.1)\n",
      "Requirement already satisfied: fonttools>=4.22.0 in /opt/anaconda3/envs/sumo_RL_pytorch/lib/python3.11/site-packages (from matplotlib) (4.53.1)\n",
      "Requirement already satisfied: kiwisolver>=1.3.1 in /opt/anaconda3/envs/sumo_RL_pytorch/lib/python3.11/site-packages (from matplotlib) (1.4.5)\n",
      "Requirement already satisfied: packaging>=20.0 in /opt/anaconda3/envs/sumo_RL_pytorch/lib/python3.11/site-packages (from matplotlib) (24.1)\n",
      "Requirement already satisfied: pillow>=8 in /opt/anaconda3/envs/sumo_RL_pytorch/lib/python3.11/site-packages (from matplotlib) (10.3.0)\n",
      "Requirement already satisfied: pyparsing>=2.3.1 in /opt/anaconda3/envs/sumo_RL_pytorch/lib/python3.11/site-packages (from matplotlib) (3.1.2)\n",
      "Requirement already satisfied: python-dateutil>=2.7 in /opt/anaconda3/envs/sumo_RL_pytorch/lib/python3.11/site-packages (from matplotlib) (2.9.0.post0)\n",
      "Requirement already satisfied: six>=1.5 in /opt/anaconda3/envs/sumo_RL_pytorch/lib/python3.11/site-packages (from python-dateutil>=2.7->matplotlib) (1.16.0)\n"
     ]
    }
   ],
   "execution_count": 1
  },
  {
   "metadata": {
    "ExecuteTime": {
     "end_time": "2024-07-10T09:16:59.013983Z",
     "start_time": "2024-07-10T09:16:58.987368Z"
    }
   },
   "cell_type": "code",
   "source": [
    "import numpy as np\n",
    "import gym_envs.envs.traffic_light_support_functions as tlsf\n",
    "import traci\n",
    "\n",
    "cycleTime = 60\n",
    "minGreentime = 5\n",
    "numberOfPhases = 6\n",
    "intergreenMatrix = np.zeros((numberOfPhases, numberOfPhases))\n",
    "intergreenMatrix = [\n",
    "    [0, 0, 0, 7, 6, 6],\n",
    "    [0, 0, 0, 5, 0, 0],\n",
    "    [8, 0, 0, 0, 5, 0],\n",
    "    [6, 6, 0, 0, 8, 0],\n",
    "    [8, 0, 6, 5, 0, 0],\n",
    "    [6, 0, 0, 0, 0, 0],\n",
    "]\n",
    "\n",
    "phasePlan = np.full((numberOfPhases,cycleTime), 0)\n",
    "\n",
    "initialPhaseplan = np.full((numberOfPhases, cycleTime),'r')\n",
    "\n",
    "starting_phases = [1, 1, 2, 2, 1, 2]\n",
    "phase_lengths = [\n",
    "    [19, 2, 14, 3, 22],\n",
    "    [41, 2, 13, 4],\n",
    "    [2, 34, 3, 21],\n",
    "    [2, 13, 3, 42],\n",
    "    [40, 2, 14, 3, 1],\n",
    "    [2, 13, 3, 42]\n",
    "]\n",
    "\n",
    "initialPhaseplan = tlsf.generate_phase_plan(starting_phases, phase_lengths)"
   ],
   "id": "95c88896c1f65d31",
   "outputs": [
    {
     "ename": "ModuleNotFoundError",
     "evalue": "No module named 'traci'",
     "output_type": "error",
     "traceback": [
      "\u001B[0;31m---------------------------------------------------------------------------\u001B[0m",
      "\u001B[0;31mModuleNotFoundError\u001B[0m                       Traceback (most recent call last)",
      "Cell \u001B[0;32mIn[3], line 2\u001B[0m\n\u001B[1;32m      1\u001B[0m \u001B[38;5;28;01mimport\u001B[39;00m \u001B[38;5;21;01mnumpy\u001B[39;00m \u001B[38;5;28;01mas\u001B[39;00m \u001B[38;5;21;01mnp\u001B[39;00m\n\u001B[0;32m----> 2\u001B[0m \u001B[38;5;28;01mimport\u001B[39;00m \u001B[38;5;21;01mgym_envs\u001B[39;00m\u001B[38;5;21;01m.\u001B[39;00m\u001B[38;5;21;01menvs\u001B[39;00m\u001B[38;5;21;01m.\u001B[39;00m\u001B[38;5;21;01mtraffic_light_support_functions\u001B[39;00m \u001B[38;5;28;01mas\u001B[39;00m \u001B[38;5;21;01mtlsf\u001B[39;00m\n\u001B[1;32m      3\u001B[0m \u001B[38;5;28;01mimport\u001B[39;00m \u001B[38;5;21;01mtraci\u001B[39;00m\n\u001B[1;32m      5\u001B[0m cycleTime \u001B[38;5;241m=\u001B[39m \u001B[38;5;241m60\u001B[39m\n",
      "File \u001B[0;32m~/Documents/Munka/SUMO networks/gym_env_tester/gym_envs/envs/__init__.py:1\u001B[0m\n\u001B[0;32m----> 1\u001B[0m \u001B[38;5;28;01mfrom\u001B[39;00m \u001B[38;5;21;01mgym_envs\u001B[39;00m\u001B[38;5;21;01m.\u001B[39;00m\u001B[38;5;21;01menvs\u001B[39;00m\u001B[38;5;21;01m.\u001B[39;00m\u001B[38;5;21;01mtraffic_env\u001B[39;00m \u001B[38;5;28;01mimport\u001B[39;00m TrafficEnv\n\u001B[1;32m      2\u001B[0m \u001B[38;5;28;01mimport\u001B[39;00m \u001B[38;5;21;01mgym_envs\u001B[39;00m\u001B[38;5;21;01m.\u001B[39;00m\u001B[38;5;21;01menvs\u001B[39;00m\u001B[38;5;21;01m.\u001B[39;00m\u001B[38;5;21;01mtraffic_light_support_functions\u001B[39;00m\n",
      "File \u001B[0;32m~/Documents/Munka/SUMO networks/gym_env_tester/gym_envs/envs/traffic_env.py:9\u001B[0m\n\u001B[1;32m      7\u001B[0m \u001B[38;5;28;01mimport\u001B[39;00m \u001B[38;5;21;01mgymnasium\u001B[39;00m \u001B[38;5;28;01mas\u001B[39;00m \u001B[38;5;21;01mgym\u001B[39;00m\n\u001B[1;32m      8\u001B[0m \u001B[38;5;28;01mimport\u001B[39;00m \u001B[38;5;21;01mnumpy\u001B[39;00m \u001B[38;5;28;01mas\u001B[39;00m \u001B[38;5;21;01mnp\u001B[39;00m\n\u001B[0;32m----> 9\u001B[0m \u001B[38;5;28;01mimport\u001B[39;00m \u001B[38;5;21;01mtraci\u001B[39;00m\n\u001B[1;32m     10\u001B[0m \u001B[38;5;28;01mfrom\u001B[39;00m \u001B[38;5;21;01mgymnasium\u001B[39;00m \u001B[38;5;28;01mimport\u001B[39;00m spaces\n\u001B[1;32m     12\u001B[0m \u001B[38;5;28;01mimport\u001B[39;00m \u001B[38;5;21;01mgym_envs\u001B[39;00m\u001B[38;5;21;01m.\u001B[39;00m\u001B[38;5;21;01menvs\u001B[39;00m\u001B[38;5;21;01m.\u001B[39;00m\u001B[38;5;21;01mtraffic_light_support_functions\u001B[39;00m \u001B[38;5;28;01mas\u001B[39;00m \u001B[38;5;21;01mtlsf\u001B[39;00m\n",
      "\u001B[0;31mModuleNotFoundError\u001B[0m: No module named 'traci'"
     ]
    }
   ],
   "execution_count": 3
  },
  {
   "metadata": {
    "ExecuteTime": {
     "end_time": "2024-07-09T09:34:46.747983Z",
     "start_time": "2024-07-09T09:34:45.161871Z"
    }
   },
   "cell_type": "code",
   "source": [
    "import gymnasium as gym\n",
    "import math\n",
    "import random\n",
    "import matplotlib\n",
    "import matplotlib.pyplot as plt\n",
    "from collections import namedtuple, deque\n",
    "from itertools import count\n",
    "\n",
    "import torch\n",
    "import torch.nn as nn\n",
    "import torch.optim as optim\n",
    "import torch.nn.functional as F\n",
    "\n",
    "env = gym.make('TrafficEnv-V0', render_mode ='console', starting_phases = starting_phases, phase_lengths = phase_lengths)\n",
    "\n",
    "# set up matplotlib\n",
    "is_ipython = 'inline' in matplotlib.get_backend()\n",
    "if is_ipython:\n",
    "    from IPython import display\n",
    "\n",
    "plt.ion()\n",
    "\n",
    "# if GPU is to be used\n",
    "device = torch.device(\n",
    "    \"cuda\" if torch.cuda.is_available() else\n",
    "    \"mps\" if torch.backends.mps.is_available() else\n",
    "    \"cpu\"\n",
    ")"
   ],
   "id": "6f567cb95b79e267",
   "outputs": [],
   "execution_count": 2
  },
  {
   "metadata": {
    "ExecuteTime": {
     "end_time": "2024-07-09T09:34:46.750599Z",
     "start_time": "2024-07-09T09:34:46.748545Z"
    }
   },
   "cell_type": "code",
   "source": [
    "Transition = namedtuple('Transition',\n",
    "                        ('state', 'action', 'next_state', 'reward'))\n",
    "\n",
    "class ReplayMemory(object):\n",
    "    def __init__(self, capacity):\n",
    "        self.memory = deque([], maxlen=capacity)\n",
    "\n",
    "    def push(self, *args):\n",
    "        \"\"\"Save a transition\"\"\"\n",
    "        self.memory.append(Transition(*args))\n",
    "\n",
    "    def sample(self, batch_size):\n",
    "        return random.sample(self.memory, batch_size)\n",
    "\n",
    "    def __len__(self):\n",
    "        return len(self.memory)\n",
    "\n"
   ],
   "id": "383786c6137aeb3b",
   "outputs": [],
   "execution_count": 3
  },
  {
   "metadata": {
    "ExecuteTime": {
     "end_time": "2024-07-09T09:34:46.752930Z",
     "start_time": "2024-07-09T09:34:46.751116Z"
    }
   },
   "cell_type": "code",
   "source": [
    "import torch\n",
    "import torch.nn as nn\n",
    "import torch.nn.functional as F\n",
    "from tensordict import TensorDict\n",
    "\n",
    "class DQN(nn.Module):\n",
    "    def __init__(self, observation_space, n_actions):\n",
    "        super(DQN, self).__init__()\n",
    "        \n",
    "        # Occupancy és vehicle_count feldolgozása\n",
    "        self.fc_occupancy = nn.Linear(observation_space['occupancy'].shape[0], 64)\n",
    "        self.fc_vehicle_count = nn.Linear(observation_space['vehicle_count'].shape[0], 64)\n",
    "        \n",
    "        # Last five phaseplan feldolgozása\n",
    "        phaseplan_shape = observation_space['last_five_phaseplan'].shape\n",
    "        self.conv_phaseplan = nn.Conv3d(1, 32, kernel_size=(3, 3, 3), stride=1, padding=1)\n",
    "        self.fc_phaseplan = nn.Linear(32 * phaseplan_shape[0] * phaseplan_shape[1] * phaseplan_shape[2], 128)\n",
    "        \n",
    "        # Közös feldolgozó rétegek\n",
    "        self.fc1 = nn.Linear(64 + 64 + 128, 256)\n",
    "        self.fc2 = nn.Linear(256, n_actions)\n",
    "\n",
    "    def forward(self, x: TensorDict):\n",
    "        occupancy = F.relu(self.fc_occupancy(x['occupancy']))\n",
    "        vehicle_count = F.relu(self.fc_vehicle_count(x['vehicle_count']))\n",
    "        \n",
    "        phaseplan = x['last_five_phaseplan'].unsqueeze(1)  # Add channel dimension\n",
    "        phaseplan = F.relu(self.conv_phaseplan(phaseplan))\n",
    "        phaseplan = phaseplan.view(phaseplan.size(0), -1)\n",
    "        phaseplan = F.relu(self.fc_phaseplan(phaseplan))\n",
    "        \n",
    "        combined = torch.cat((occupancy, vehicle_count, phaseplan), dim=1)\n",
    "        x = F.relu(self.fc1(combined))\n",
    "        return self.fc2(x)"
   ],
   "id": "a05a778b7ae3d777",
   "outputs": [],
   "execution_count": 4
  },
  {
   "metadata": {
    "ExecuteTime": {
     "end_time": "2024-07-09T09:34:47.736832Z",
     "start_time": "2024-07-09T09:34:46.754014Z"
    }
   },
   "cell_type": "code",
   "source": [
    "# BATCH_SIZE is the number of transitions sampled from the replay buffer\n",
    "# GAMMA is the discount factor as mentioned in the previous section\n",
    "# EPS_START is the starting value of epsilon\n",
    "# EPS_END is the final value of epsilon\n",
    "# EPS_DECAY controls the rate of exponential decay of epsilon, higher means a slower decay\n",
    "# TAU is the update rate of the target network\n",
    "# LR is the learning rate of the ``AdamW`` optimizer\n",
    "BATCH_SIZE = 128\n",
    "GAMMA = 0.99\n",
    "EPS_START = 0.9\n",
    "EPS_END = 0.05\n",
    "EPS_DECAY = 1000\n",
    "TAU = 0.005\n",
    "LR = 1e-4\n",
    "\n",
    "# Get number of actions from gym action space\n",
    "n_actions = env.action_space.n\n",
    "# Get the number of state observations\n",
    "state, info = env.reset()\n",
    "\n",
    "\n",
    "policy_net = DQN(env.observation_space, n_actions).to(device)\n",
    "target_net = DQN(env.observation_space, n_actions).to(device)\n",
    "target_net.load_state_dict(policy_net.state_dict())\n",
    "\n",
    "optimizer = optim.AdamW(policy_net.parameters(), lr=LR, amsgrad=True)\n",
    "memory = ReplayMemory(10000)\n",
    "\n",
    "\n",
    "steps_done = 0\n",
    "\n",
    "\n",
    "def select_action(state: TensorDict):\n",
    "    global steps_done\n",
    "    sample = random.random()\n",
    "    eps_threshold = EPS_END + (EPS_START - EPS_END) * \\\n",
    "        math.exp(-1. * steps_done / EPS_DECAY)\n",
    "    steps_done += 1\n",
    "    if sample > eps_threshold:\n",
    "        with torch.no_grad():\n",
    "            # t.max(1) will return the largest column value of each row.\n",
    "            # second column on max result is index of where max element was\n",
    "            # found, so we pick action with the larger expected reward.\n",
    "            return policy_net(state).max(1).indices.view(1, 1)\n",
    "    else:\n",
    "        return torch.tensor([[env.action_space.sample()]], device=device, dtype=torch.long)\n",
    "\n",
    "\n",
    "episode_durations = []\n",
    "\n",
    "\n",
    "def plot_durations(show_result=False):\n",
    "    plt.figure(1)\n",
    "    durations_t = torch.tensor(episode_durations, dtype=torch.float)\n",
    "    if show_result:\n",
    "        plt.title('Result')\n",
    "    else:\n",
    "        plt.clf()\n",
    "        plt.title('Training...')\n",
    "    plt.xlabel('Episode')\n",
    "    plt.ylabel('Duration')\n",
    "    plt.plot(durations_t.numpy())\n",
    "    # Take 100 episode averages and plot them too\n",
    "    if len(durations_t) >= 100:\n",
    "        means = durations_t.unfold(0, 100, 1).mean(1).view(-1)\n",
    "        means = torch.cat((torch.zeros(99), means))\n",
    "        plt.plot(means.numpy())\n",
    "\n",
    "    plt.pause(0.001)  # pause a bit so that plots are updated\n",
    "    if is_ipython:\n",
    "        if not show_result:\n",
    "            display.display(plt.gcf())\n",
    "            display.clear_output(wait=True)\n",
    "        else:\n",
    "            display.display(plt.gcf())"
   ],
   "id": "420a357bc8b60479",
   "outputs": [],
   "execution_count": 5
  },
  {
   "metadata": {
    "ExecuteTime": {
     "end_time": "2024-07-09T09:34:47.740088Z",
     "start_time": "2024-07-09T09:34:47.737418Z"
    }
   },
   "cell_type": "code",
   "source": [
    "def optimize_model():\n",
    "    if len(memory) < BATCH_SIZE:\n",
    "        return\n",
    "    transitions = memory.sample(BATCH_SIZE)\n",
    "    # Transpose the batch (see https://stackoverflow.com/a/19343/3343043 for\n",
    "    # detailed explanation). This converts batch-array of Transitions\n",
    "    # to Transition of batch-arrays.\n",
    "    batch = Transition(*zip(*transitions))\n",
    "\n",
    "    # Compute a mask of non-final states and concatenate the batch elements\n",
    "    # (a final state would've been the one after which simulation ended)\n",
    "    non_final_mask = torch.tensor(tuple(map(lambda s: s is not None,\n",
    "                                          batch.next_state)), device=device, dtype=torch.bool)\n",
    "    #non_final_next_states = torch.cat([s for s in batch.next_state\n",
    "    #                                            if s is not None])\n",
    "    non_final_next_states = TensorDict({\n",
    "        'occupancy': torch.cat([s['occupancy'] for s in batch.next_state if s is not None]),\n",
    "        'vehicle_count': torch.cat([s['vehicle_count'] for s in batch.next_state if s is not None]),\n",
    "        'last_five_phaseplan': torch.cat([s['last_five_phaseplan'] for s in batch.next_state if s is not None])\n",
    "    })\n",
    "    \n",
    "    #state_batch = torch.cat(batch.state)\n",
    "    state_batch = TensorDict({\n",
    "        'occupancy': torch.cat([s['occupancy'] for s in batch.state]),\n",
    "        'vehicle_count': torch.cat([s['vehicle_count'] for s in batch.state]),\n",
    "        'last_five_phaseplan': torch.cat([s['last_five_phaseplan'] for s in batch.state])\n",
    "    })\n",
    "\n",
    "    action_batch = torch.cat(batch.action)\n",
    "    reward_batch = torch.cat(batch.reward)\n",
    "\n",
    "    # Compute Q(s_t, a) - the model computes Q(s_t), then we select the\n",
    "    # columns of actions taken. These are the actions which would've been taken\n",
    "    # for each batch state according to policy_net\n",
    "    state_action_values = policy_net(state_batch).gather(1, action_batch)\n",
    "\n",
    "    # Compute V(s_{t+1}) for all next states.\n",
    "    # Expected values of actions for non_final_next_states are computed based\n",
    "    # on the \"older\" target_net; selecting their best reward with max(1).values\n",
    "    # This is merged based on the mask, such that we'll have either the expected\n",
    "    # state value or 0 in case the state was final.\n",
    "    next_state_values = torch.zeros(BATCH_SIZE, device=device)\n",
    "    with torch.no_grad():\n",
    "        next_state_values[non_final_mask] = target_net(non_final_next_states).max(1).values\n",
    "\n",
    "    # Compute the expected Q values\n",
    "    expected_state_action_values = (next_state_values * GAMMA) + reward_batch\n",
    "\n",
    "    # Compute Huber loss\n",
    "    criterion = nn.SmoothL1Loss()\n",
    "    loss = criterion(state_action_values, expected_state_action_values.unsqueeze(1))\n",
    "\n",
    "    # Optimize the model\n",
    "    optimizer.zero_grad()\n",
    "    loss.backward()\n",
    "    # In-place gradient clipping\n",
    "    torch.nn.utils.clip_grad_value_(policy_net.parameters(), 100)\n",
    "    optimizer.step()"
   ],
   "id": "401bacf1448d60d4",
   "outputs": [],
   "execution_count": 6
  },
  {
   "metadata": {},
   "cell_type": "code",
   "source": [
    "if torch.cuda.is_available() or torch.backends.mps.is_available():\n",
    "    num_episodes = 600\n",
    "else:\n",
    "    num_episodes = 50\n",
    "\n",
    "for i_episode in range(num_episodes):\n",
    "    # Initialize the environment and get its state\n",
    "    state, info = env.reset()\n",
    "    #state = torch.tensor(state, dtype=torch.float32, device=device).unsqueeze(0)\n",
    "    state  = TensorDict({\n",
    "        'occupancy' : torch.tensor(state['occupancy'], dtype=torch.float32, device=device).unsqueeze(0),\n",
    "        'vehicle_count' : torch.tensor(state['vehicle_count'], dtype=torch.float32, device=device).unsqueeze(0),\n",
    "        'last_five_phaseplan' : torch.tensor(state['last_five_phaseplan'], dtype=torch.float32, device=device).unsqueeze(0)\n",
    "    })\n",
    "    print(\"Episode number: \", i_episode)\n",
    "    for t in count():\n",
    "        action = select_action(state)\n",
    "        observation, reward, terminated, truncated, _ = env.step(action.item())\n",
    "        reward = torch.tensor([reward], device=device)\n",
    "        done = terminated or truncated\n",
    "\n",
    "        if terminated:\n",
    "            next_state = None\n",
    "        else:\n",
    "            next_state = TensorDict({\n",
    "                'occupancy' : torch.tensor(observation['occupancy'], dtype=torch.float32, device=device).unsqueeze(0),\n",
    "                'vehicle_count' : torch.tensor(observation['vehicle_count'], dtype=torch.float32, device=device).unsqueeze(0),\n",
    "                'last_five_phaseplan' : torch.tensor(observation['last_five_phaseplan'], dtype=torch.float32, device=device).unsqueeze(0)\n",
    "            })\n",
    "\n",
    "        # Store the transition in memory\n",
    "        memory.push(state, action, next_state, reward)\n",
    "\n",
    "        # Move to the next state\n",
    "        state = next_state\n",
    "\n",
    "        # Perform one step of the optimization (on the policy network)\n",
    "        optimize_model()\n",
    "\n",
    "        # Soft update of the target network's weights\n",
    "        # θ′ ← τ θ + (1 −τ )θ′\n",
    "        target_net_state_dict = target_net.state_dict()\n",
    "        policy_net_state_dict = policy_net.state_dict()\n",
    "        for key in policy_net_state_dict:\n",
    "            target_net_state_dict[key] = policy_net_state_dict[key]*TAU + target_net_state_dict[key]*(1-TAU)\n",
    "        target_net.load_state_dict(target_net_state_dict)\n",
    "\n",
    "        if done:\n",
    "            episode_durations.append(t + 1)\n",
    "            plot_durations()\n",
    "            break\n",
    "\n"
   ],
   "id": "7a1a034e1c02ccd7",
   "execution_count": 7,
   "outputs": []
  },
  {
   "metadata": {
    "ExecuteTime": {
     "end_time": "2024-07-09T09:53:39.049561Z",
     "start_time": "2024-07-09T09:53:38.989721Z"
    }
   },
   "cell_type": "code",
   "source": [
    "print('Complete')\n",
    "plot_durations(show_result=True)\n",
    "plt.ioff()\n",
    "plt.show()"
   ],
   "id": "7698be55daaf6ef7",
   "outputs": [
    {
     "name": "stdout",
     "output_type": "stream",
     "text": [
      "Complete\n"
     ]
    },
    {
     "data": {
      "text/plain": [
       "<Figure size 640x480 with 1 Axes>"
      ],
      "image/png": "[encoded data removed]"
     },
     "metadata": {},
     "output_type": "display_data"
    },
    {
     "data": {
      "text/plain": [
       "<Figure size 640x480 with 0 Axes>"
      ]
     },
     "metadata": {},
     "output_type": "display_data"
    },
    {
     "data": {
      "text/plain": [
       "<Figure size 640x480 with 0 Axes>"
      ]
     },
     "metadata": {},
     "output_type": "display_data"
    }
   ],
   "execution_count": 8
  }
 ],
 "metadata": {
  "kernelspec": {
   "display_name": "Python 3",
   "language": "python",
   "name": "python3"
  },
  "language_info": {
   "codemirror_mode": {
    "name": "ipython",
    "version": 2
   },
   "file_extension": ".py",
   "mimetype": "text/x-python",
   "name": "python",
   "nbconvert_exporter": "python",
   "pygments_lexer": "ipython2",
   "version": "2.7.6"
  }
 },
 "nbformat": 4,
 "nbformat_minor": 5
}
