{
 "cells": [
  {
   "metadata": {
    "ExecuteTime": {
     "end_time": "2024-07-10T14:41:00.662237Z",
     "start_time": "2024-07-10T14:40:59.667676Z"
    }
   },
   "cell_type": "code",
   "source": [
    "%%bash\n",
    "pip3 install gymnasium[classic_control] matplotlib"
   ],
   "id": "914ba3803e666051",
   "outputs": [
    {
     "name": "stdout",
     "output_type": "stream",
     "text": [
      "Requirement already satisfied: matplotlib in /opt/anaconda3/envs/sumo_RL_pytorch/lib/python3.11/site-packages (3.9.1)\n",
      "Requirement already satisfied: gymnasium[classic_control] in /opt/anaconda3/envs/sumo_RL_pytorch/lib/python3.11/site-packages (0.29.1)\n",
      "Requirement already satisfied: numpy>=1.21.0 in /opt/anaconda3/envs/sumo_RL_pytorch/lib/python3.11/site-packages (from gymnasium[classic_control]) (1.26.5)\n",
      "Requirement already satisfied: cloudpickle>=1.2.0 in /opt/anaconda3/envs/sumo_RL_pytorch/lib/python3.11/site-packages (from gymnasium[classic_control]) (3.0.0)\n",
      "Requirement already satisfied: typing-extensions>=4.3.0 in /opt/anaconda3/envs/sumo_RL_pytorch/lib/python3.11/site-packages (from gymnasium[classic_control]) (4.11.0)\n",
      "Requirement already satisfied: farama-notifications>=0.0.1 in /opt/anaconda3/envs/sumo_RL_pytorch/lib/python3.11/site-packages (from gymnasium[classic_control]) (0.0.4)\n",
      "Requirement already satisfied: pygame>=2.1.3 in /opt/anaconda3/envs/sumo_RL_pytorch/lib/python3.11/site-packages (from gymnasium[classic_control]) (2.6.0)\n",
      "Requirement already satisfied: contourpy>=1.0.1 in /opt/anaconda3/envs/sumo_RL_pytorch/lib/python3.11/site-packages (from matplotlib) (1.2.1)\n",
      "Requirement already satisfied: cycler>=0.10 in /opt/anaconda3/envs/sumo_RL_pytorch/lib/python3.11/site-packages (from matplotlib) (0.12.1)\n",
      "Requirement already satisfied: fonttools>=4.22.0 in /opt/anaconda3/envs/sumo_RL_pytorch/lib/python3.11/site-packages (from matplotlib) (4.53.1)\n",
      "Requirement already satisfied: kiwisolver>=1.3.1 in /opt/anaconda3/envs/sumo_RL_pytorch/lib/python3.11/site-packages (from matplotlib) (1.4.5)\n",
      "Requirement already satisfied: packaging>=20.0 in /opt/anaconda3/envs/sumo_RL_pytorch/lib/python3.11/site-packages (from matplotlib) (24.1)\n",
      "Requirement already satisfied: pillow>=8 in /opt/anaconda3/envs/sumo_RL_pytorch/lib/python3.11/site-packages (from matplotlib) (10.3.0)\n",
      "Requirement already satisfied: pyparsing>=2.3.1 in /opt/anaconda3/envs/sumo_RL_pytorch/lib/python3.11/site-packages (from matplotlib) (3.1.2)\n",
      "Requirement already satisfied: python-dateutil>=2.7 in /opt/anaconda3/envs/sumo_RL_pytorch/lib/python3.11/site-packages (from matplotlib) (2.9.0.post0)\n",
      "Requirement already satisfied: six>=1.5 in /opt/anaconda3/envs/sumo_RL_pytorch/lib/python3.11/site-packages (from python-dateutil>=2.7->matplotlib) (1.16.0)\n"
     ]
    }
   ],
   "execution_count": 1
  },
  {
   "metadata": {
    "ExecuteTime": {
     "end_time": "2024-07-10T14:41:00.919319Z",
     "start_time": "2024-07-10T14:41:00.663368Z"
    }
   },
   "cell_type": "code",
   "source": [
    "import numpy as np\n",
    "import gym_envs.envs.traffic_light_support_functions as tlsf\n",
    "import traci\n",
    "\n",
    "cycleTime = 60\n",
    "minGreentime = 5\n",
    "numberOfPhases = 6\n",
    "intergreenMatrix = np.zeros((numberOfPhases, numberOfPhases))\n",
    "intergreenMatrix = [\n",
    "    [0, 0, 0, 7, 6, 6],\n",
    "    [0, 0, 0, 5, 0, 0],\n",
    "    [8, 0, 0, 0, 5, 0],\n",
    "    [6, 6, 0, 0, 8, 0],\n",
    "    [8, 0, 6, 5, 0, 0],\n",
    "    [6, 0, 0, 0, 0, 0],\n",
    "]\n",
    "\n",
    "phasePlan = np.full((numberOfPhases,cycleTime), 0)\n",
    "\n",
    "initialPhaseplan = np.full((numberOfPhases, cycleTime),'r')\n",
    "\n",
    "starting_phases = [1, 1, 2, 2, 1, 2]\n",
    "phase_lengths = [\n",
    "    [19, 2, 14, 3, 22],\n",
    "    [41, 2, 13, 4],\n",
    "    [2, 34, 3, 21],\n",
    "    [2, 13, 3, 42],\n",
    "    [40, 2, 14, 3, 1],\n",
    "    [2, 13, 3, 42]\n",
    "]\n",
    "\n",
    "initialPhaseplan = tlsf.generate_phase_plan(starting_phases, phase_lengths)\n",
    "initialPhaseplan = tlsf.change_phase_plan((5,5),60)"
   ],
   "id": "95c88896c1f65d31",
   "outputs": [],
   "execution_count": 2
  },
  {
   "metadata": {
    "ExecuteTime": {
     "end_time": "2024-07-10T14:41:02.769472Z",
     "start_time": "2024-07-10T14:41:00.920875Z"
    }
   },
   "cell_type": "code",
   "source": [
    "import gymnasium as gym\n",
    "import math\n",
    "import random\n",
    "import matplotlib\n",
    "import matplotlib.pyplot as plt\n",
    "from collections import namedtuple, deque\n",
    "from itertools import count\n",
    "\n",
    "import torch\n",
    "import torch.nn as nn\n",
    "import torch.optim as optim\n",
    "import torch.nn.functional as F\n",
    "\n",
    "env = gym.make('TrafficEnv-V0', render_mode ='console', starting_phases = starting_phases, phase_lengths = phase_lengths, simulation_time= 3600*5)\n",
    "\n",
    "# set up matplotlib\n",
    "is_ipython = 'inline' in matplotlib.get_backend()\n",
    "if is_ipython:\n",
    "    from IPython import display\n",
    "\n",
    "plt.ion()\n",
    "\n",
    "# if GPU is to be used\n",
    "device = torch.device(\n",
    "    \"cuda\" if torch.cuda.is_available() else\n",
    "    \"mps\" if torch.backends.mps.is_available() else\n",
    "    \"cpu\"\n",
    ")"
   ],
   "id": "6f567cb95b79e267",
   "outputs": [
    {
     "name": "stdout",
     "output_type": "stream",
     "text": [
      " Retrying in 1 seconds\n"
     ]
    }
   ],
   "execution_count": 3
  },
  {
   "metadata": {
    "ExecuteTime": {
     "end_time": "2024-07-10T14:41:02.773520Z",
     "start_time": "2024-07-10T14:41:02.770312Z"
    }
   },
   "cell_type": "code",
   "source": [
    "Transition = namedtuple('Transition',\n",
    "                        ('state', 'action', 'next_state', 'reward'))\n",
    "\n",
    "class ReplayMemory(object):\n",
    "    def __init__(self, capacity):\n",
    "        self.memory = deque([], maxlen=capacity)\n",
    "\n",
    "    def push(self, *args):\n",
    "        \"\"\"Save a transition\"\"\"\n",
    "        self.memory.append(Transition(*args))\n",
    "\n",
    "    def sample(self, batch_size):\n",
    "        return random.sample(self.memory, batch_size)\n",
    "\n",
    "    def __len__(self):\n",
    "        return len(self.memory)\n",
    "\n"
   ],
   "id": "383786c6137aeb3b",
   "outputs": [],
   "execution_count": 4
  },
  {
   "metadata": {
    "ExecuteTime": {
     "end_time": "2024-07-10T14:41:02.878081Z",
     "start_time": "2024-07-10T14:41:02.775006Z"
    }
   },
   "cell_type": "code",
   "source": [
    "import torch\n",
    "import torch.nn as nn\n",
    "import torch.nn.functional as F\n",
    "from tensordict import TensorDict\n",
    "\n",
    "class DQN(nn.Module):\n",
    "    def __init__(self, observation_space, n_actions):\n",
    "        super(DQN, self).__init__()\n",
    "        \n",
    "        # Occupancy és vehicle_count feldolgozása\n",
    "        self.fc_occupancy = nn.Linear(observation_space['occupancy'].shape[0], 64)\n",
    "        self.fc_vehicle_count = nn.Linear(observation_space['vehicle_count'].shape[0], 64)\n",
    "        \n",
    "        # Last five phaseplan feldolgozása\n",
    "        # phaseplan_shape = observation_space['last_five_phaseplan'].shape\n",
    "        # self.conv_phaseplan = nn.Conv3d(1, 32, kernel_size=(3, 3, 3), stride=1, padding=1)\n",
    "        # self.fc_phaseplan = nn.Linear(32 * phaseplan_shape[0] * phaseplan_shape[1] * phaseplan_shape[2], 128)\n",
    "        \n",
    "        # Közös feldolgozó rétegek\n",
    "        #self.fc1 = nn.Linear(64 + 64 + 128, 256)\n",
    "        self.fc1 = nn.Linear(64 + 64, 256)  # Removed + 128\n",
    "        self.fc2 = nn.Linear(256, n_actions)\n",
    "\n",
    "    def forward(self, x: TensorDict):\n",
    "        occupancy = F.relu(self.fc_occupancy(x['occupancy']))\n",
    "        vehicle_count = F.relu(self.fc_vehicle_count(x['vehicle_count']))\n",
    "        \n",
    "        # phaseplan = x['last_five_phaseplan'].unsqueeze(1)  # Add channel dimension\n",
    "        # phaseplan = F.relu(self.conv_phaseplan(phaseplan))\n",
    "        # phaseplan = phaseplan.view(phaseplan.size(0), -1)\n",
    "        # phaseplan = F.relu(self.fc_phaseplan(phaseplan))\n",
    "        \n",
    "        #combined = torch.cat((occupancy, vehicle_count, phaseplan), dim=1)\n",
    "        combined = torch.cat((occupancy, vehicle_count), dim=1)  # Removed , phaseplan\n",
    "        x = F.relu(self.fc1(combined))\n",
    "        return self.fc2(x)"
   ],
   "id": "a05a778b7ae3d777",
   "outputs": [],
   "execution_count": 5
  },
  {
   "metadata": {
    "ExecuteTime": {
     "end_time": "2024-07-10T14:41:03.423629Z",
     "start_time": "2024-07-10T14:41:02.879016Z"
    }
   },
   "cell_type": "code",
   "source": [
    "# BATCH_SIZE is the number of transitions sampled from the replay buffer\n",
    "# GAMMA is the discount factor as mentioned in the previous section\n",
    "# EPS_START is the starting value of epsilon\n",
    "# EPS_END is the final value of epsilon\n",
    "# EPS_DECAY controls the rate of exponential decay of epsilon, higher means a slower decay\n",
    "# TAU is the update rate of the target network\n",
    "# LR is the learning rate of the ``AdamW`` optimizer\n",
    "BATCH_SIZE = 128\n",
    "GAMMA = 0.99\n",
    "EPS_START = 0.9\n",
    "EPS_END = 0.05\n",
    "EPS_DECAY = 1000\n",
    "TAU = 0.005\n",
    "LR = 1e-4\n",
    "\n",
    "# Get number of actions from gym action space\n",
    "n_actions = env.action_space.n\n",
    "# Get the number of state observations\n",
    "state, info = env.reset()\n",
    "\n",
    "\n",
    "policy_net = DQN(env.observation_space, n_actions).to(device)\n",
    "target_net = DQN(env.observation_space, n_actions).to(device)\n",
    "target_net.load_state_dict(policy_net.state_dict())\n",
    "\n",
    "optimizer = optim.AdamW(policy_net.parameters(), lr=LR, amsgrad=True)\n",
    "memory = ReplayMemory(10000)\n",
    "\n",
    "\n",
    "steps_done = 0\n",
    "eps_threshold = None\n",
    "\n",
    "\n",
    "def select_action(state: TensorDict):\n",
    "    global steps_done\n",
    "    sample = random.random()\n",
    "    eps_threshold = EPS_END + (EPS_START - EPS_END) * \\\n",
    "        math.exp(-1. * steps_done / EPS_DECAY)\n",
    "    steps_done += 1\n",
    "    if sample > eps_threshold:\n",
    "        with torch.no_grad():\n",
    "            # t.max(1) will return the largest column value of each row.\n",
    "            # second column on max result is index of where max element was\n",
    "            # found, so we pick action with the larger expected reward.\n",
    "            return policy_net(state).max(1).indices.view(1, 1)\n",
    "    else:\n",
    "        return torch.tensor([[env.action_space.sample()]], device=device, dtype=torch.long)\n",
    "\n",
    "\n",
    "episode_rewards = []\n",
    "episode_epsilons = []\n",
    "\n",
    "\n",
    "def plot_rewards(show_result=False):\n",
    "    plt.figure(1)\n",
    "    durations_t = torch.tensor(episode_rewards, dtype=torch.float)\n",
    "    if show_result:\n",
    "        plt.title('Result')\n",
    "    else:\n",
    "        plt.clf()\n",
    "        plt.title('Training...')\n",
    "    plt.xlabel('Episode')\n",
    "    plt.ylabel('Reward')\n",
    "    plt.plot(durations_t.numpy())\n",
    "    # Take 100 episode averages and plot them too\n",
    "    if len(durations_t) >= 100:\n",
    "        means = durations_t.unfold(0, 100, 1).mean(1).view(-1)\n",
    "        means = torch.cat((torch.zeros(99), means))\n",
    "        plt.plot(means.numpy())\n",
    "\n",
    "    \n",
    "    display.clear_output()\n",
    "    plt.pause(0.001)  # pause a bit so that plots are updated\n",
    "    display.display(plt.gcf())\n",
    "    \n",
    "    plt.figure(2)\n",
    "    plt.plot(episode_epsilons)\n",
    "    plt.title('Epsilon values over episodes')\n",
    "    plt.xlabel('Episode')\n",
    "    plt.ylabel('Epsilon')\n",
    "    plt.show()\n",
    "    #if is_ipython:\n",
    "    #    if not show_result:\n",
    "    #        display.display(plt.gcf())\n",
    "    #        display.clear_output(wait=True)\n",
    "    #    else:\n",
    "    #        display.display(plt.gcf())"
   ],
   "id": "420a357bc8b60479",
   "outputs": [],
   "execution_count": 6
  },
  {
   "metadata": {
    "ExecuteTime": {
     "end_time": "2024-07-10T14:41:03.427394Z",
     "start_time": "2024-07-10T14:41:03.424288Z"
    }
   },
   "cell_type": "code",
   "source": [
    "def optimize_model():\n",
    "    if len(memory) < BATCH_SIZE:\n",
    "        return\n",
    "    transitions = memory.sample(BATCH_SIZE)\n",
    "    # Transpose the batch (see https://stackoverflow.com/a/19343/3343043 for\n",
    "    # detailed explanation). This converts batch-array of Transitions\n",
    "    # to Transition of batch-arrays.\n",
    "    batch = Transition(*zip(*transitions))\n",
    "\n",
    "    # Compute a mask of non-final states and concatenate the batch elements\n",
    "    # (a final state would've been the one after which simulation ended)\n",
    "    non_final_mask = torch.tensor(tuple(map(lambda s: s is not None,\n",
    "                                          batch.next_state)), device=device, dtype=torch.bool)\n",
    "    #non_final_next_states = torch.cat([s for s in batch.next_state\n",
    "    #                                            if s is not None])\n",
    "    non_final_next_states = TensorDict({\n",
    "        'occupancy': torch.cat([s['occupancy'] for s in batch.next_state if s is not None]),\n",
    "        'vehicle_count': torch.cat([s['vehicle_count'] for s in batch.next_state if s is not None]),\n",
    "        #'last_five_phaseplan': torch.cat([s['last_five_phaseplan'] for s in batch.next_state if s is not None])\n",
    "    })\n",
    "    \n",
    "    #state_batch = torch.cat(batch.state)\n",
    "    state_batch = TensorDict({\n",
    "        'occupancy': torch.cat([s['occupancy'] for s in batch.state]),\n",
    "        'vehicle_count': torch.cat([s['vehicle_count'] for s in batch.state]),\n",
    "        #'last_five_phaseplan': torch.cat([s['last_five_phaseplan'] for s in batch.state])\n",
    "    })\n",
    "\n",
    "    action_batch = torch.cat(batch.action)\n",
    "    reward_batch = torch.cat(batch.reward)\n",
    "\n",
    "    # Compute Q(s_t, a) - the model computes Q(s_t), then we select the\n",
    "    # columns of actions taken. These are the actions which would've been taken\n",
    "    # for each batch state according to policy_net\n",
    "    state_action_values = policy_net(state_batch).gather(1, action_batch)\n",
    "\n",
    "    # Compute V(s_{t+1}) for all next states.\n",
    "    # Expected values of actions for non_final_next_states are computed based\n",
    "    # on the \"older\" target_net; selecting their best reward with max(1).values\n",
    "    # This is merged based on the mask, such that we'll have either the expected\n",
    "    # state value or 0 in case the state was final.\n",
    "    next_state_values = torch.zeros(BATCH_SIZE, device=device)\n",
    "    with torch.no_grad():\n",
    "        next_state_values[non_final_mask] = target_net(non_final_next_states).max(1).values\n",
    "\n",
    "    # Compute the expected Q values\n",
    "    expected_state_action_values = (next_state_values * GAMMA) + reward_batch\n",
    "\n",
    "    # Compute Huber loss\n",
    "    criterion = nn.SmoothL1Loss()\n",
    "    loss = criterion(state_action_values, expected_state_action_values.unsqueeze(1))\n",
    "\n",
    "    # Optimize the model\n",
    "    optimizer.zero_grad()\n",
    "    loss.backward()\n",
    "    # In-place gradient clipping\n",
    "    torch.nn.utils.clip_grad_value_(policy_net.parameters(), 100)\n",
    "    optimizer.step()"
   ],
   "id": "401bacf1448d60d4",
   "outputs": [],
   "execution_count": 7
  },
  {
   "metadata": {},
   "cell_type": "code",
   "source": [
    "if torch.cuda.is_available() or torch.backends.mps.is_available():\n",
    "    num_episodes = 600\n",
    "else:\n",
    "    num_episodes = 50\n",
    "\n",
    "for i_episode in range(num_episodes):\n",
    "    # Initialize the environment and get its state\n",
    "    state, info = env.reset()\n",
    "    #state = torch.tensor(state, dtype=torch.float32, device=device).unsqueeze(0)\n",
    "    state  = TensorDict({\n",
    "        'occupancy' : torch.tensor(state['occupancy'], dtype=torch.float32, device=device).unsqueeze(0),\n",
    "        'vehicle_count' : torch.tensor(state['vehicle_count'], dtype=torch.float32, device=device).unsqueeze(0),\n",
    "        #'last_five_phaseplan' : torch.tensor(state['last_five_phaseplan'], dtype=torch.float32, device=device).unsqueeze(0)\n",
    "    })\n",
    "    print(\"Episode number: \", i_episode)\n",
    "    reward_per_episode = 0\n",
    "    for t in count():\n",
    "        action = select_action(state)\n",
    "        observation, reward, terminated, truncated, _ = env.step(np.array([action.item()]))\n",
    "        reward = torch.tensor([reward], device=device)\n",
    "        done = terminated or truncated\n",
    "        reward_per_episode += reward.item()\n",
    "\n",
    "        if terminated:\n",
    "            next_state = None\n",
    "        else:\n",
    "            next_state = TensorDict({\n",
    "                'occupancy' : torch.tensor(observation['occupancy'], dtype=torch.float32, device=device).unsqueeze(0),\n",
    "                'vehicle_count' : torch.tensor(observation['vehicle_count'], dtype=torch.float32, device=device).unsqueeze(0),\n",
    "                #'last_five_phaseplan' : torch.tensor(observation['last_five_phaseplan'], dtype=torch.float32, device=device).unsqueeze(0)\n",
    "            })\n",
    "\n",
    "        # Store the transition in memory\n",
    "        memory.push(state, action, next_state, reward)\n",
    "\n",
    "        # Move to the next state\n",
    "        state = next_state\n",
    "\n",
    "        # Perform one step of the optimization (on the policy network)\n",
    "        optimize_model()\n",
    "\n",
    "        # Soft update of the target network's weights\n",
    "        # θ′ ← τ θ + (1 −τ )θ′\n",
    "        target_net_state_dict = target_net.state_dict()\n",
    "        policy_net_state_dict = policy_net.state_dict()\n",
    "        for key in policy_net_state_dict:\n",
    "            target_net_state_dict[key] = policy_net_state_dict[key]*TAU + target_net_state_dict[key]*(1-TAU)\n",
    "        target_net.load_state_dict(target_net_state_dict)\n",
    "\n",
    "        if done:\n",
    "            episode_epsilons.append(eps_threshold)\n",
    "            episode_rewards.append(reward_per_episode)\n",
    "            print(\"Rewards:\", )\n",
    "            plot_rewards()\n",
    "            break\n",
    "\n"
   ],
   "id": "7a1a034e1c02ccd7",
   "execution_count": 8,
   "outputs": [
    {
     "data": {
      "text/plain": [
       "<Figure size 640x480 with 1 Axes>"
      ],
      "image/png": "[encoded data removed]"
     },
     "metadata": {},
     "output_type": "display_data"
    },
    {
     "data": {
      "text/plain": [
       "<Figure size 640x480 with 0 Axes>"
      ]
     },
     "metadata": {},
     "output_type": "display_data"
    },
    {
     "data": {
      "text/plain": [
       "<Figure size 640x480 with 0 Axes>"
      ]
     },
     "metadata": {},
     "output_type": "display_data"
    },
    {
     "data": {
      "text/plain": [
       "<Figure size 640x480 with 1 Axes>"
      ],
      "image/png": "[encoded data removed]"
     },
     "metadata": {},
     "output_type": "display_data"
    },
    {
     "name": "stdout",
     "output_type": "stream",
     "text": [
      "Episode number:  59\n",
      "Step #18300.00 (1ms ~= 1000.00*RT, ~129000.00UPS, TraCI: 103ms, vehicles TOT 10405 ACT 129\r\n",
      "Interrupt signal received, trying to exit gracefully.OT 3112 ACT 90 BUF 1268)             \n"
     ]
    },
    {
     "ename": "KeyboardInterrupt",
     "evalue": "",
     "output_type": "error",
     "traceback": [
      "\u001B[0;31m---------------------------------------------------------------------------\u001B[0m",
      "\u001B[0;31mKeyboardInterrupt\u001B[0m                         Traceback (most recent call last)",
      "Cell \u001B[0;32mIn[8], line 19\u001B[0m\n\u001B[1;32m     17\u001B[0m \u001B[38;5;28;01mfor\u001B[39;00m t \u001B[38;5;129;01min\u001B[39;00m count():\n\u001B[1;32m     18\u001B[0m     action \u001B[38;5;241m=\u001B[39m select_action(state)\n\u001B[0;32m---> 19\u001B[0m     observation, reward, terminated, truncated, _ \u001B[38;5;241m=\u001B[39m env\u001B[38;5;241m.\u001B[39mstep(np\u001B[38;5;241m.\u001B[39marray([action\u001B[38;5;241m.\u001B[39mitem()]))\n\u001B[1;32m     20\u001B[0m     reward \u001B[38;5;241m=\u001B[39m torch\u001B[38;5;241m.\u001B[39mtensor([reward], device\u001B[38;5;241m=\u001B[39mdevice)\n\u001B[1;32m     21\u001B[0m     done \u001B[38;5;241m=\u001B[39m terminated \u001B[38;5;129;01mor\u001B[39;00m truncated\n",
      "File \u001B[0;32m/opt/anaconda3/envs/sumo_RL_pytorch/lib/python3.11/site-packages/gymnasium/wrappers/order_enforcing.py:56\u001B[0m, in \u001B[0;36mOrderEnforcing.step\u001B[0;34m(self, action)\u001B[0m\n\u001B[1;32m     54\u001B[0m \u001B[38;5;28;01mif\u001B[39;00m \u001B[38;5;129;01mnot\u001B[39;00m \u001B[38;5;28mself\u001B[39m\u001B[38;5;241m.\u001B[39m_has_reset:\n\u001B[1;32m     55\u001B[0m     \u001B[38;5;28;01mraise\u001B[39;00m ResetNeeded(\u001B[38;5;124m\"\u001B[39m\u001B[38;5;124mCannot call env.step() before calling env.reset()\u001B[39m\u001B[38;5;124m\"\u001B[39m)\n\u001B[0;32m---> 56\u001B[0m \u001B[38;5;28;01mreturn\u001B[39;00m \u001B[38;5;28mself\u001B[39m\u001B[38;5;241m.\u001B[39menv\u001B[38;5;241m.\u001B[39mstep(action)\n",
      "File \u001B[0;32m/opt/anaconda3/envs/sumo_RL_pytorch/lib/python3.11/site-packages/gymnasium/wrappers/env_checker.py:51\u001B[0m, in \u001B[0;36mPassiveEnvChecker.step\u001B[0;34m(self, action)\u001B[0m\n\u001B[1;32m     49\u001B[0m     \u001B[38;5;28;01mreturn\u001B[39;00m env_step_passive_checker(\u001B[38;5;28mself\u001B[39m\u001B[38;5;241m.\u001B[39menv, action)\n\u001B[1;32m     50\u001B[0m \u001B[38;5;28;01melse\u001B[39;00m:\n\u001B[0;32m---> 51\u001B[0m     \u001B[38;5;28;01mreturn\u001B[39;00m \u001B[38;5;28mself\u001B[39m\u001B[38;5;241m.\u001B[39menv\u001B[38;5;241m.\u001B[39mstep(action)\n",
      "File \u001B[0;32m~/Documents/Munka/SUMO networks/gym_env_tester/gym_envs/envs/traffic_env.py:150\u001B[0m, in \u001B[0;36mTrafficEnv.step\u001B[0;34m(self, action)\u001B[0m\n\u001B[1;32m    148\u001B[0m \u001B[38;5;28;01mfor\u001B[39;00m j \u001B[38;5;129;01min\u001B[39;00m \u001B[38;5;28mrange\u001B[39m (\u001B[38;5;241m0\u001B[39m,\u001B[38;5;241m5\u001B[39m):\n\u001B[1;32m    149\u001B[0m     \u001B[38;5;28;01mfor\u001B[39;00m i \u001B[38;5;129;01min\u001B[39;00m \u001B[38;5;28mrange\u001B[39m(\u001B[38;5;241m0\u001B[39m, \u001B[38;5;28mself\u001B[39m\u001B[38;5;241m.\u001B[39mcycle_time):\n\u001B[0;32m--> 150\u001B[0m         traci\u001B[38;5;241m.\u001B[39msimulationStep()\n\u001B[1;32m    151\u001B[0m         \u001B[38;5;28mself\u001B[39m\u001B[38;5;241m.\u001B[39mcurrent_step \u001B[38;5;241m+\u001B[39m\u001B[38;5;241m=\u001B[39m \u001B[38;5;241m1\u001B[39m\n\u001B[1;32m    152\u001B[0m         tls \u001B[38;5;241m=\u001B[39m traci\u001B[38;5;241m.\u001B[39mtrafficlight\u001B[38;5;241m.\u001B[39mgetIDList()\n",
      "File \u001B[0;32m/opt/anaconda3/envs/sumo_RL_pytorch/lib/python3.11/site-packages/traci/main.py:198\u001B[0m, in \u001B[0;36msimulationStep\u001B[0;34m(step)\u001B[0m\n\u001B[1;32m    192\u001B[0m \u001B[38;5;28;01mdef\u001B[39;00m \u001B[38;5;21msimulationStep\u001B[39m(step\u001B[38;5;241m=\u001B[39m\u001B[38;5;241m0\u001B[39m):\n\u001B[1;32m    193\u001B[0m \u001B[38;5;250m    \u001B[39m\u001B[38;5;124;03m\"\"\"simulationStep(float) -> None\u001B[39;00m\n\u001B[1;32m    194\u001B[0m \u001B[38;5;124;03m    Make a simulation step and simulate up to the given second in sim time.\u001B[39;00m\n\u001B[1;32m    195\u001B[0m \u001B[38;5;124;03m    If the given value is 0 or absent, exactly one step is performed.\u001B[39;00m\n\u001B[1;32m    196\u001B[0m \u001B[38;5;124;03m    Values smaller than or equal to the current sim time result in no action.\u001B[39;00m\n\u001B[1;32m    197\u001B[0m \u001B[38;5;124;03m    \"\"\"\u001B[39;00m\n\u001B[0;32m--> 198\u001B[0m     connection\u001B[38;5;241m.\u001B[39mcheck()\u001B[38;5;241m.\u001B[39msimulationStep(step)\n",
      "File \u001B[0;32m/opt/anaconda3/envs/sumo_RL_pytorch/lib/python3.11/site-packages/traci/connection.py:368\u001B[0m, in \u001B[0;36mConnection.simulationStep\u001B[0;34m(self, step)\u001B[0m\n\u001B[1;32m    366\u001B[0m \u001B[38;5;28;01mif\u001B[39;00m \u001B[38;5;28mtype\u001B[39m(step) \u001B[38;5;129;01mis\u001B[39;00m \u001B[38;5;28mint\u001B[39m \u001B[38;5;129;01mand\u001B[39;00m step \u001B[38;5;241m>\u001B[39m\u001B[38;5;241m=\u001B[39m \u001B[38;5;241m1000\u001B[39m:\n\u001B[1;32m    367\u001B[0m     warnings\u001B[38;5;241m.\u001B[39mwarn(\u001B[38;5;124m\"\u001B[39m\u001B[38;5;124mAPI change now handles step as floating point seconds\u001B[39m\u001B[38;5;124m\"\u001B[39m, stacklevel\u001B[38;5;241m=\u001B[39m\u001B[38;5;241m2\u001B[39m)\n\u001B[0;32m--> 368\u001B[0m result \u001B[38;5;241m=\u001B[39m \u001B[38;5;28mself\u001B[39m\u001B[38;5;241m.\u001B[39m_sendCmd(tc\u001B[38;5;241m.\u001B[39mCMD_SIMSTEP, \u001B[38;5;28;01mNone\u001B[39;00m, \u001B[38;5;28;01mNone\u001B[39;00m, \u001B[38;5;124m\"\u001B[39m\u001B[38;5;124mD\u001B[39m\u001B[38;5;124m\"\u001B[39m, step)\n\u001B[1;32m    369\u001B[0m \u001B[38;5;28;01mfor\u001B[39;00m subscriptionResults \u001B[38;5;129;01min\u001B[39;00m \u001B[38;5;28mself\u001B[39m\u001B[38;5;241m.\u001B[39m_subscriptionMapping\u001B[38;5;241m.\u001B[39mvalues():\n\u001B[1;32m    370\u001B[0m     subscriptionResults\u001B[38;5;241m.\u001B[39mreset()\n",
      "File \u001B[0;32m/opt/anaconda3/envs/sumo_RL_pytorch/lib/python3.11/site-packages/traci/connection.py:231\u001B[0m, in \u001B[0;36mConnection._sendCmd\u001B[0;34m(self, cmdID, varID, objID, format, *values)\u001B[0m\n\u001B[1;32m    229\u001B[0m     \u001B[38;5;28mself\u001B[39m\u001B[38;5;241m.\u001B[39m_string \u001B[38;5;241m+\u001B[39m\u001B[38;5;241m=\u001B[39m struct\u001B[38;5;241m.\u001B[39mpack(\u001B[38;5;124m\"\u001B[39m\u001B[38;5;124m!i\u001B[39m\u001B[38;5;124m\"\u001B[39m, \u001B[38;5;28mlen\u001B[39m(objID)) \u001B[38;5;241m+\u001B[39m objID\n\u001B[1;32m    230\u001B[0m \u001B[38;5;28mself\u001B[39m\u001B[38;5;241m.\u001B[39m_string \u001B[38;5;241m+\u001B[39m\u001B[38;5;241m=\u001B[39m packed\n\u001B[0;32m--> 231\u001B[0m \u001B[38;5;28;01mreturn\u001B[39;00m \u001B[38;5;28mself\u001B[39m\u001B[38;5;241m.\u001B[39m_sendExact()\n",
      "File \u001B[0;32m/opt/anaconda3/envs/sumo_RL_pytorch/lib/python3.11/site-packages/traci/connection.py:131\u001B[0m, in \u001B[0;36mConnection._sendExact\u001B[0;34m(self)\u001B[0m\n\u001B[1;32m    129\u001B[0m     \u001B[38;5;28mprint\u001B[39m(\u001B[38;5;124m\"\u001B[39m\u001B[38;5;124msending\u001B[39m\u001B[38;5;124m\"\u001B[39m, Storage(length \u001B[38;5;241m+\u001B[39m \u001B[38;5;28mself\u001B[39m\u001B[38;5;241m.\u001B[39m_string)\u001B[38;5;241m.\u001B[39mgetDebugString())\n\u001B[1;32m    130\u001B[0m \u001B[38;5;28mself\u001B[39m\u001B[38;5;241m.\u001B[39m_socket\u001B[38;5;241m.\u001B[39msend(length \u001B[38;5;241m+\u001B[39m \u001B[38;5;28mself\u001B[39m\u001B[38;5;241m.\u001B[39m_string)\n\u001B[0;32m--> 131\u001B[0m result \u001B[38;5;241m=\u001B[39m \u001B[38;5;28mself\u001B[39m\u001B[38;5;241m.\u001B[39m_recvExact()\n\u001B[1;32m    132\u001B[0m \u001B[38;5;28;01mif\u001B[39;00m _DEBUG:\n\u001B[1;32m    133\u001B[0m     \u001B[38;5;28mprint\u001B[39m(\u001B[38;5;124m\"\u001B[39m\u001B[38;5;124mreceiving\u001B[39m\u001B[38;5;124m\"\u001B[39m, result\u001B[38;5;241m.\u001B[39mgetDebugString())\n",
      "File \u001B[0;32m/opt/anaconda3/envs/sumo_RL_pytorch/lib/python3.11/site-packages/traci/connection.py:109\u001B[0m, in \u001B[0;36mConnection._recvExact\u001B[0;34m(self)\u001B[0m\n\u001B[1;32m    107\u001B[0m result \u001B[38;5;241m=\u001B[39m \u001B[38;5;28mbytes\u001B[39m()\n\u001B[1;32m    108\u001B[0m \u001B[38;5;28;01mwhile\u001B[39;00m \u001B[38;5;28mlen\u001B[39m(result) \u001B[38;5;241m<\u001B[39m \u001B[38;5;241m4\u001B[39m:\n\u001B[0;32m--> 109\u001B[0m     t \u001B[38;5;241m=\u001B[39m \u001B[38;5;28mself\u001B[39m\u001B[38;5;241m.\u001B[39m_socket\u001B[38;5;241m.\u001B[39mrecv(\u001B[38;5;241m4\u001B[39m \u001B[38;5;241m-\u001B[39m \u001B[38;5;28mlen\u001B[39m(result))\n\u001B[1;32m    110\u001B[0m     \u001B[38;5;28;01mif\u001B[39;00m \u001B[38;5;129;01mnot\u001B[39;00m t:\n\u001B[1;32m    111\u001B[0m         \u001B[38;5;28;01mreturn\u001B[39;00m \u001B[38;5;28;01mNone\u001B[39;00m\n",
      "\u001B[0;31mKeyboardInterrupt\u001B[0m: "
     ]
    }
   ]
  },
  {
   "metadata": {},
   "cell_type": "code",
   "source": [
    "print('Complete')\n",
    "plot_rewards(show_result=True)\n",
    "plt.ioff()\n",
    "plt.show()\n",
    "\n"
   ],
   "id": "7698be55daaf6ef7",
   "outputs": [],
   "execution_count": null
  },
  {
   "metadata": {},
   "cell_type": "code",
   "source": "",
   "id": "46af24e88e303208",
   "outputs": [],
   "execution_count": null
  }
 ],
 "metadata": {
  "kernelspec": {
   "display_name": "Python 3",
   "language": "python",
   "name": "python3"
  },
  "language_info": {
   "codemirror_mode": {
    "name": "ipython",
    "version": 2
   },
   "file_extension": ".py",
   "mimetype": "text/x-python",
   "name": "python",
   "nbconvert_exporter": "python",
   "pygments_lexer": "ipython2",
   "version": "2.7.6"
  }
 },
 "nbformat": 4,
 "nbformat_minor": 5
}
